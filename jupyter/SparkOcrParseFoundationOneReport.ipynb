{
 "cells": [
  {
   "cell_type": "markdown",
   "metadata": {},
   "source": [
    "# Example of parsing FoundationOne report using Spark OCR"
   ]
  },
  {
   "cell_type": "markdown",
   "metadata": {},
   "source": [
    "## Install spark-ocr python packge\n",
    "Need specify path to `spark-ocr-assembly-[version].jar` or `secret`"
   ]
  },
  {
   "cell_type": "code",
   "execution_count": 1,
   "metadata": {},
   "outputs": [],
   "source": [
    "secret = \"\"\n",
    "license = \"\"\n",
    "version = secret.split(\"-\")[0]\n",
    "spark_ocr_jar_path = \"../../target/scala-2.11\""
   ]
  },
  {
   "cell_type": "code",
   "execution_count": 2,
   "metadata": {},
   "outputs": [],
   "source": [
    "%%bash\n",
    "if python -c 'import google.colab' &> /dev/null; then\n",
    "    echo \"Run on Google Colab!\"\n",
    "    echo \"Install Open JDK\"\n",
    "    apt-get install -y openjdk-8-jdk-headless -qq > /dev/null\n",
    "    java -version\n",
    "fi"
   ]
  },
  {
   "cell_type": "code",
   "execution_count": 3,
   "metadata": {},
   "outputs": [],
   "source": [
    "import sys\n",
    "import os\n",
    "\n",
    "if 'google.colab' in sys.modules:\n",
    "  os.environ[\"JAVA_HOME\"] = \"/usr/lib/jvm/java-8-openjdk-amd64\"\n",
    "  os.environ[\"PATH\"] = os.environ[\"JAVA_HOME\"] + \"/bin:\" + os.environ[\"PATH\"]"
   ]
  },
  {
   "cell_type": "code",
   "execution_count": null,
   "metadata": {},
   "outputs": [],
   "source": [
    "# install from PYPI using secret\n",
    "%pip install spark-ocr==$version.spark24 --user --extra-index-url=https://pypi.johnsnowlabs.com/$secret --upgrade"
   ]
  },
  {
   "cell_type": "code",
   "execution_count": null,
   "metadata": {},
   "outputs": [],
   "source": [
    "# or install from local path\n",
    "#%pip install --user ../../python/dist/spark-ocr-1.9.0.spark24.tar.gz"
   ]
  },
  {
   "cell_type": "markdown",
   "metadata": {},
   "source": [
    "## Initialization of spark session"
   ]
  },
  {
   "cell_type": "code",
   "execution_count": 4,
   "metadata": {},
   "outputs": [
    {
     "name": "stdout",
     "output_type": "stream",
     "text": [
      "Spark version: 2.4.4\n",
      "Spark NLP version: 2.5.5\n",
      "Spark OCR version: 1.8.0\n",
      "\n"
     ]
    },
    {
     "data": {
      "text/html": [
       "\n",
       "            <div>\n",
       "                <p><b>SparkSession - in-memory</b></p>\n",
       "                \n",
       "        <div>\n",
       "            <p><b>SparkContext</b></p>\n",
       "\n",
       "            <p><a href=\"http://192.168.0.185:4043\">Spark UI</a></p>\n",
       "\n",
       "            <dl>\n",
       "              <dt>Version</dt>\n",
       "                <dd><code>v2.4.4</code></dd>\n",
       "              <dt>Master</dt>\n",
       "                <dd><code>local[*]</code></dd>\n",
       "              <dt>AppName</dt>\n",
       "                <dd><code>Spark OCR</code></dd>\n",
       "            </dl>\n",
       "        </div>\n",
       "        \n",
       "            </div>\n",
       "        "
      ],
      "text/plain": [
       "<pyspark.sql.session.SparkSession at 0x127d8d790>"
      ]
     },
     "execution_count": 4,
     "metadata": {},
     "output_type": "execute_result"
    }
   ],
   "source": [
    "from pyspark.sql import SparkSession\n",
    "from sparkocr import start\n",
    "\n",
    "if license:\n",
    "    os.environ['JSL_OCR_LICENSE'] = license\n",
    "\n",
    "spark = start(secret=secret, jar_path=spark_ocr_jar_path)\n",
    "spark"
   ]
  },
  {
   "cell_type": "markdown",
   "metadata": {},
   "source": [
    "## Import OCR transformers"
   ]
  },
  {
   "cell_type": "code",
   "execution_count": 5,
   "metadata": {},
   "outputs": [],
   "source": [
    "from sparkocr.transformers import *\n",
    "from sparkocr.enums import *\n",
    "from pyspark.ml import PipelineModel"
   ]
  },
  {
   "cell_type": "markdown",
   "metadata": {},
   "source": [
    "## Define OCR transformers and pipeline"
   ]
  },
  {
   "cell_type": "code",
   "execution_count": 12,
   "metadata": {},
   "outputs": [],
   "source": [
    "def pipeline():\n",
    "    \n",
    "    # Transforrm PDF document to images per page\n",
    "    pdf_to_text = PdfToText()\n",
    "    pdf_to_text.setOutputCol(\"text\")\n",
    "    pdf_to_text.setSplitPage(False)\n",
    "    pdf_to_text.setSort(True)\n",
    "    pdf_to_text.setTextStripper(TextStripperType.PDF_LAYOUT_TEXT_STRIPPER)\n",
    "\n",
    "    genomic_parser = FoundationOneReportParser()\n",
    "    genomic_parser.setInputCol(\"text\")\n",
    "    genomic_parser.setOutputCol(\"genomics\")\n",
    "\n",
    "    \n",
    "    pipeline = PipelineModel(stages=[\n",
    "        pdf_to_text,\n",
    "        genomic_parser\n",
    "    ])\n",
    "    \n",
    "    return pipeline"
   ]
  },
  {
   "cell_type": "markdown",
   "metadata": {},
   "source": [
    "## Read PDF document as binary file"
   ]
  },
  {
   "cell_type": "code",
   "execution_count": 7,
   "metadata": {},
   "outputs": [],
   "source": [
    "import pkg_resources\n",
    "pdf_example = pkg_resources.resource_filename('sparkocr', 'resources/ocr/pdfs/genomics/3.pdf')\n",
    "pdf_example_df = spark.read.format(\"binaryFile\").load(pdf_example).cache()"
   ]
  },
  {
   "cell_type": "markdown",
   "metadata": {},
   "source": [
    "## Run OCR pipelines"
   ]
  },
  {
   "cell_type": "code",
   "execution_count": 13,
   "metadata": {},
   "outputs": [],
   "source": [
    "result = pipeline().transform(pdf_example_df).cache()"
   ]
  },
  {
   "cell_type": "markdown",
   "metadata": {},
   "source": [
    "## Display results"
   ]
  },
  {
   "cell_type": "code",
   "execution_count": 14,
   "metadata": {},
   "outputs": [
    {
     "name": "stdout",
     "output_type": "stream",
     "text": [
      "{\n",
      "  \"Biomarker_findings\" : [ {\n",
      "    \"name\" : \"Tumor Mutation Burden\",\n",
      "    \"state\" : \"TMB-Low (5Muts/Mb)\",\n",
      "    \"actionability\" : \"No therapies or clinical trials. \"\n",
      "  }, {\n",
      "    \"name\" : \"Microsatellite status\",\n",
      "    \"state\" : \"MS-Stable\",\n",
      "    \"actionability\" : \"No therapies or clinical trials. \"\n",
      "  } ],\n",
      "  \"Genomic_findings\" : [ {\n",
      "    \"name\" : \"MET\",\n",
      "    \"state\" : \"T263M\",\n",
      "    \"therapies_with_clinical_benefit_in_patient_tumor_type\" : [ \"Crizotinib\" ],\n",
      "    \"therapies_with_clinical_benefit_in_other_tumor_type\" : [ \"Cabozantinib\" ]\n",
      "  }, {\n",
      "    \"name\" : \"ERBB3\",\n",
      "    \"state\" : \"P1212S\",\n",
      "    \"therapies_with_clinical_benefit_in_patient_tumor_type\" : [ \"Afatinib\" ],\n",
      "    \"therapies_with_clinical_benefit_in_other_tumor_type\" : [ \"Trastuzumab-dkst\", \"Trastuzumab\", \"Pertuzumab\", \"Lapatinib\", \"Ado-trastuzumab emtansine\" ]\n",
      "  }, {\n",
      "    \"name\" : \"EGFR\",\n",
      "    \"state\" : \"amplification, exon 19 deletion\",\n",
      "    \"therapies_with_clinical_benefit_in_patient_tumor_type\" : [ \"Osimertinib\", \"Gefitinib\", \"Erlotinib\", \"Afatinib\" ],\n",
      "    \"therapies_with_clinical_benefit_in_other_tumor_type\" : [ \"Panitumumab\", \"Lapatinib\", \"Cetuximab\" ]\n",
      "  } ],\n",
      "  \"Patient\" : {\n",
      "    \"disease\" : \"Lung adenocarcinoma\",\n",
      "    \"name\" : null,\n",
      "    \"date_of_birth\" : null,\n",
      "    \"sex\" : null,\n",
      "    \"medical_record\" : null\n",
      "  },\n",
      "  \"Physician\" : {\n",
      "    \"ordering_physician\" : null,\n",
      "    \"medical_facility\" : null,\n",
      "    \"additional_recipient\" : null,\n",
      "    \"medical_facility_id\" : null,\n",
      "    \"pathologist\" : null\n",
      "  },\n",
      "  \"Specimen\" : {\n",
      "    \"specimen_site\" : null,\n",
      "    \"specimen_id\" : null,\n",
      "    \"specimen_type\" : null,\n",
      "    \"date_of_collection\" : null,\n",
      "    \"specimen_received\" : null\n",
      "  }\n",
      "}\n"
     ]
    }
   ],
   "source": [
    "print(result.select(\"genomics\").collect()[0].genomics)"
   ]
  },
  {
   "cell_type": "markdown",
   "metadata": {},
   "source": [
    "## Clear cache"
   ]
  },
  {
   "cell_type": "code",
   "execution_count": 10,
   "metadata": {},
   "outputs": [
    {
     "data": {
      "text/plain": [
       "DataFrame[path: string, modificationTime: timestamp, length: bigint, image: struct<origin:string,height:int,width:int,nChannels:int,mode:int,resolution:int,data:binary>, pagenum: int, confidence: double, positions: array<struct<mapping:array<struct<c:string,p:int,x:float,y:float,width:float,height:float,fontSize:int>>>>, exception: string, text: string]"
      ]
     },
     "execution_count": 10,
     "metadata": {},
     "output_type": "execute_result"
    }
   ],
   "source": [
    "result.unpersist()"
   ]
  }
 ],
 "metadata": {
  "kernelspec": {
   "display_name": "Python 3",
   "language": "python",
   "name": "python3"
  },
  "language_info": {
   "codemirror_mode": {
    "name": "ipython",
    "version": 3
   },
   "file_extension": ".py",
   "mimetype": "text/x-python",
   "name": "python",
   "nbconvert_exporter": "python",
   "pygments_lexer": "ipython3",
   "version": "3.7.9"
  }
 },
 "nbformat": 4,
 "nbformat_minor": 2
}
