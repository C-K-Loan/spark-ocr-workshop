{
 "cells": [
  {
   "cell_type": "markdown",
   "metadata": {},
   "source": [
    "# Example of usage Spark OCR with Dicom Image Deidentifier"
   ]
  },
  {
   "cell_type": "markdown",
   "metadata": {},
   "source": [
    "## Import Spark OCR transformers and Spark NLP annotators"
   ]
  },
  {
   "cell_type": "markdown",
   "metadata": {},
   "source": [
    "## Install spark-ocr python packge\n",
    "Need specify path to `spark-ocr-assembly-[version].jar` or `secret`"
   ]
  },
  {
   "cell_type": "code",
   "execution_count": 1,
   "metadata": {},
   "outputs": [],
   "source": [
    "nlp_secret = \"\"\n",
    "secret = \"\"\n",
    "license = \"\"\n",
    "nlp_license = \"\"\n",
    "version = secret.split(\"-\")[0]\n",
    "spark_ocr_jar_path = \"../../target/scala-2.11\"\n",
    "spark_nlp_jsl_jar = \"../../target/spark-nlp-jsl-2.5.0rc3.jar\""
   ]
  },
  {
   "cell_type": "code",
   "execution_count": null,
   "metadata": {},
   "outputs": [],
   "source": [
    "%%bash\n",
    "if python -c 'import google.colab' &> /dev/null; then\n",
    "    echo \"Run on Google Colab!\"\n",
    "    echo \"Install Open JDK\"\n",
    "    apt-get install -y openjdk-8-jdk-headless -qq > /dev/null\n",
    "    java -version\n",
    "fi"
   ]
  },
  {
   "cell_type": "code",
   "execution_count": null,
   "metadata": {},
   "outputs": [],
   "source": [
    "import os\n",
    "import sys\n",
    "from IPython.core.display import display\n",
    "\n",
    "if 'google.colab' in sys.modules:\n",
    "  os.environ[\"JAVA_HOME\"] = \"/usr/lib/jvm/java-8-openjdk-amd64\"\n",
    "  os.environ[\"PATH\"] = os.environ[\"JAVA_HOME\"] + \"/bin:\" + os.environ[\"PATH\"]"
   ]
  },
  {
   "cell_type": "code",
   "execution_count": null,
   "metadata": {},
   "outputs": [],
   "source": [
    "# install from PYPI using secret\n",
    "%pip install --upgrade spark-nlp-jsl==2.5.0rc3  --extra-index-url https://pypi.johnsnowlabs.com/$nlp_secret\n",
    "%pip install spark-nlp==2.5.0\n",
    "%pip install spark-ocr==$version --user --extra-index-url=https://pypi.johnsnowlabs.com/$secret --upgrade"
   ]
  },
  {
   "cell_type": "code",
   "execution_count": null,
   "metadata": {},
   "outputs": [],
   "source": [
    "# %pip install --user ../dist/spark-ocr-[version].tar.gz"
   ]
  },
  {
   "cell_type": "markdown",
   "metadata": {},
   "source": [
    "## Initialization of spark session\n",
    "Need specify path to `spark-ocr-assembly.jar` or `secret`"
   ]
  },
  {
   "cell_type": "code",
   "execution_count": 2,
   "metadata": {},
   "outputs": [
    {
     "name": "stdout",
     "output_type": "stream",
     "text": [
      "SparkConf Configured, Starting to listen on port: 59744\n",
      "JAR PATH:/usr/local/lib/python3.7/site-packages/sparkmonitor/listener.jar\n"
     ]
    },
    {
     "data": {
      "text/html": [
       "\n",
       "            <div>\n",
       "                <p><b>SparkSession - in-memory</b></p>\n",
       "                \n",
       "        <div>\n",
       "            <p><b>SparkContext</b></p>\n",
       "\n",
       "            <p><a href=\"http://melnyks-mbp:4043\">Spark UI</a></p>\n",
       "\n",
       "            <dl>\n",
       "              <dt>Version</dt>\n",
       "                <dd><code>v2.4.4</code></dd>\n",
       "              <dt>Master</dt>\n",
       "                <dd><code>local[*]</code></dd>\n",
       "              <dt>AppName</dt>\n",
       "                <dd><code>Spark OCR</code></dd>\n",
       "            </dl>\n",
       "        </div>\n",
       "        \n",
       "            </div>\n",
       "        "
      ],
      "text/plain": [
       "<pyspark.sql.session.SparkSession at 0x10c27d2d0>"
      ]
     },
     "execution_count": 2,
     "metadata": {},
     "output_type": "execute_result"
    }
   ],
   "source": [
    "from pyspark import SparkConf\n",
    "from sparkocr import start\n",
    "\n",
    "if license:\n",
    "    os.environ['JSL_OCR_LICENSE'] = license\n",
    "if nlp_license:\n",
    "    os.environ['SPARK_NLP_LICENSE'] = license\n",
    "\n",
    "\n",
    "\n",
    "import sparknlp\n",
    "import sparknlp_jsl\n",
    "print(sparknlp.version())\n",
    "print(sparknlp_jsl.version())\n",
    "\n",
    "# you can set AWS API Keys to env variables\n",
    "# os.environ['AWS_ACCESS_KEY'] = \"your key\"\n",
    "# os.environ['AWS_SECRET_ACCESS_KEY'] = \"your secret\"\n",
    "\n",
    "# set additinal dependensies for read data from S3\n",
    "conf = SparkConf() \\\n",
    "    .set(\"spark.jars.packages\", \"org.apache.hadoop:hadoop-aws:2.7.3\")\n",
    "\n",
    "\n",
    "# or you can set AWS API Keys here\n",
    "#    .set('spark.hadoop.fs.s3a.access.key', \"your key\" ) \\\n",
    "#    .set('spark.hadoop.fs.s3a.secret.key', \"your secret\")\n",
    "\n",
    "if secret:\n",
    "    spark = start(secret=secret, jar_path=spark_ocr_jar_path, extra_conf=conf,nlp_version=\"2.5.0\",nlp_internal=True)\n",
    "else:\n",
    "    spark = start(secret=secret, jar_path=spark_ocr_jar_path, extra_conf=conf,nlp_version=\"2.5.0\",nlp_internal=True,jar_nlp_internal_path=spark_nlp_jsl_jar)\n",
    "\n",
    "spark"
   ]
  },
  {
   "cell_type": "code",
   "execution_count": 4,
   "metadata": {},
   "outputs": [],
   "source": [
    "from sparknlp.annotator import *\n",
    "from sparknlp.base import *\n",
    "from pyspark.ml import Pipeline\n",
    "from pyspark.ml import PipelineModel\n",
    "from sparkocr.transformers import ImageToDicom, ImageDrawRegions, ImageToText,DicomToImage,PositionFinder\n",
    "from sparkocr.enums import PageSegmentationMode\n",
    "from sparkocr.utils import display_image"
   ]
  },
  {
   "cell_type": "markdown",
   "metadata": {},
   "source": [
    "## Define OCR transformers and pipeline"
   ]
  },
  {
   "cell_type": "code",
   "execution_count": 5,
   "metadata": {},
   "outputs": [],
   "source": [
    "dicom_to_image = DicomToImage() \\\n",
    "            .setInputCol(\"content\") \\\n",
    "            .setOutputCol(\"image_raw\") \\\n",
    "            .setMetadataCol(\"metadata\")\n",
    "\n",
    "\n",
    "# Run tesseract OCR\n",
    "ocr = ImageToText() \\\n",
    "    .setInputCol(\"image_raw\") \\\n",
    "    .setOutputCol(\"text\") \\\n",
    "    .setConfidenceThreshold(60) \\\n",
    "    .setLanguage(\"eng\") \\\n",
    "    .setIgnoreResolution(False) \\\n",
    "    .setPageSegMode(PageSegmentationMode.SPARSE_TEXT)\n",
    "\n",
    "\n",
    "position_finder = PositionFinder() \\\n",
    "    .setInputCols(\"ner_chunk\") \\\n",
    "    .setOutputCol(\"coordinates\") \\\n",
    "    .setPageMatrixCol(\"positions\") \\\n",
    "    .setMatchingWindow(10) \\\n",
    "    .setPadding(0)\n",
    "\n",
    "\n",
    "drawRegions = ImageDrawRegions()  \\\n",
    "      .setInputCol(\"image_raw\")  \\\n",
    "      .setInputRegionsCol(\"coordinates\")  \\\n",
    "      .setOutputCol(\"image_with_regions\")  \\\n",
    "      .setFilledRect(True)\n",
    "\n",
    "imageToDicom = ImageToDicom() \\\n",
    "      .setInputCol(\"image_with_regions\") \\\n",
    "      .setOutputCol(\"dicom\") \\\n",
    "      .setInputMetadata(\"metadata\")\n",
    "\n",
    "from sparknlp_jsl.annotator import *\n",
    "\n",
    "documentAssembler = DocumentAssembler()\\\n",
    "  .setInputCol(\"text\")\\\n",
    "  .setOutputCol(\"document\")\n",
    "\n",
    "\n",
    "# Sentence Detector annotator, processes various sentences per line\n",
    "\n",
    "sentenceDetector = SentenceDetector()\\\n",
    "  .setInputCols([\"document\"])\\\n",
    "  .setOutputCol(\"sentence\")\n",
    "\n",
    "\n",
    "tokenizer = Tokenizer()\\\n",
    "  .setInputCols([\"sentence\"])\\\n",
    "  .setOutputCol(\"token\")\n",
    "\n",
    "# Clinical word embeddings trained on PubMED dataset\n",
    "word_embeddings = WordEmbeddingsModel.pretrained(\"embeddings_clinical\", \"en\", \"clinical/models\")\\\n",
    "  .setInputCols([\"sentence\", \"token\"])\\\n",
    "  .setOutputCol(\"embeddings\")\n",
    "\n",
    "# NER model trained on i2b2 (sampled from MIMIC) dataset\n",
    "clinical_ner = NerDLModel.pretrained(\"ner_deid_large\", \"en\", \"clinical/models\") \\\n",
    "  .setInputCols([\"sentence\", \"token\", \"embeddings\"]) \\\n",
    "  .setOutputCol(\"ner\")"
   ]
  },
  {
   "cell_type": "code",
   "execution_count": null,
   "outputs": [],
   "source": [
    "deidentification_rules = DeIdentificationModel.pretrained(\"deidentify_rb_no_regex\", \"en\", \"clinical/models\") \\\n",
    "      .setInputCols([\"sentence\", \"token\", \"ner_chunk\"]) \\\n",
    "      .setOutputCol(\"deidentified\")\n",
    "\n",
    "\n",
    "def get_deidentify_model():\n",
    "\n",
    "    custom_ner_converter = NerConverter()\\\n",
    "      .setInputCols([\"sentence\", \"token\", \"ner\"])\\\n",
    "      .setOutputCol(\"ner_chunk\")\n",
    "      #.setWhiteList(entity_types)\n",
    "\n",
    "    deidentify_pipeline = Pipeline(\n",
    "            stages = [\n",
    "            documentAssembler,\n",
    "            sentenceDetector,\n",
    "            tokenizer,\n",
    "            word_embeddings,\n",
    "            clinical_ner,\n",
    "            custom_ner_converter,\n",
    "            deidentification_rules\n",
    "            ])\n",
    "\n",
    "    empty_data = spark.createDataFrame([[\"\"]]).toDF(\"text\")\n",
    "\n",
    "    model_deidentify = deidentify_pipeline.fit(empty_data)\n",
    "\n",
    "    return model_deidentify\n",
    "\n",
    "deid_model = get_deidentify_model()\n",
    "\n",
    "# OCR pipeline\n",
    "pipeline = PipelineModel(stages=[\n",
    "    dicom_to_image,\n",
    "    ocr,\n",
    "    deid_model,\n",
    "    position_finder,\n",
    "    drawRegions,\n",
    "    imageToDicom\n",
    "])"
   ],
   "metadata": {
    "collapsed": false,
    "pycharm": {
     "name": "#%%\n"
    }
   }
  },
  {
   "cell_type": "markdown",
   "metadata": {},
   "source": [
    "## Read Dicom Object as binary file anf Run OCR Pipeline"
   ]
  },
  {
   "cell_type": "code",
   "execution_count": 6,
   "metadata": {},
   "outputs": [],
   "source": [
    "%%time\n",
    "dicom = '././data/dicom/deidentify-medical.DCM'\n",
    "df=spark.read.format(\"binaryFile\").load(dicom)"
   ]
  },
  {
   "cell_type": "markdown",
   "source": [
    "## Display Original Image and Dicom metadata"
   ],
   "metadata": {
    "collapsed": false
   }
  },
  {
   "cell_type": "code",
   "execution_count": null,
   "outputs": [],
   "source": [
    "de_dicom_df = dicom_to_image.transform(df)\n",
    "for r in de_dicom_df.distinct().collect():\n",
    "    display_image(r.image_raw)\n",
    "    display(r.metadata)\n",
    "ocr_data = pipeline.transform(df)\n",
    "pd = ocr_data.collect()\n",
    "\n"
   ],
   "metadata": {
    "collapsed": false,
    "pycharm": {
     "name": "#%%\n"
    }
   }
  },
  {
   "cell_type": "code",
   "execution_count": 7,
   "metadata": {
    "pycharm": {
     "name": "#%%\n"
    }
   },
   "outputs": [],
   "source": [
    "with open(\"deidentified-medical.DCM\", \"wb\") as file:\n",
    "    file.write(pd[0].dicom)"
   ]
  },
  {
   "cell_type": "markdown",
   "source": [
    "## Display Deidentified Image and Deidentified metadata"
   ],
   "metadata": {
    "collapsed": false
   }
  },
  {
   "cell_type": "code",
   "execution_count": null,
   "outputs": [],
   "source": [
    "de_df = spark.read.format(\"binaryFile\").load(\"deidentified-medical.DCM\")\n",
    "de_dicom_df = dicom_to_image.setDeIdentifyMetadata(True).transform(de_df)\n",
    "\n",
    "for r in de_dicom_df.distinct().collect():\n",
    "    display_image(r.image_raw)\n",
    "    display(r.metadata)\n",
    "\n"
   ],
   "metadata": {
    "collapsed": false,
    "pycharm": {
     "name": "#%%\n"
    }
   }
  },
  {
   "cell_type": "code",
   "execution_count": null,
   "outputs": [],
   "source": [
    "%%bash\n",
    "rm -r -f deidentified-medical.DCM"
   ],
   "metadata": {
    "collapsed": false,
    "pycharm": {
     "name": "#%%\n"
    }
   }
  }
 ],
 "metadata": {
  "kernelspec": {
   "display_name": "Python 3",
   "language": "python",
   "name": "python3"
  },
  "language_info": {
   "codemirror_mode": {
    "name": "ipython",
    "version": 3
   },
   "file_extension": ".py",
   "mimetype": "text/x-python",
   "name": "python",
   "nbconvert_exporter": "python",
   "pygments_lexer": "ipython3",
   "version": "3.7.7"
  }
 },
 "nbformat": 4,
 "nbformat_minor": 2
}