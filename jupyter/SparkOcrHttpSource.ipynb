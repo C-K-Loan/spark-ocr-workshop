{
 "cells": [
  {
   "cell_type": "markdown",
   "metadata": {},
   "source": [
    "# Example of usage Spark OCR with http source"
   ]
  },
  {
   "cell_type": "markdown",
   "metadata": {},
   "source": [
    "## Install spark-ocr python packge\n",
    "Need specify path to `spark-ocr-assembly-[version].jar` or `secret`"
   ]
  },
  {
   "cell_type": "code",
   "execution_count": 9,
   "metadata": {},
   "outputs": [],
   "source": [
    "secret = \"\"\n",
    "version = secret.split(\"-\")[0]\n",
    "spark_ocr_jar_path = \"../../target/scala-2.11\""
   ]
  },
  {
   "cell_type": "code",
   "execution_count": null,
   "metadata": {},
   "outputs": [],
   "source": [
    "# install from PYPI using secret\n",
    "%pip install spark-ocr==$version --extra-index-url=https://pypi.johnsnowlabs.com/$secret --force-reinstall\n",
    "%pip install requests"
   ]
  },
  {
   "cell_type": "code",
   "execution_count": null,
   "metadata": {},
   "outputs": [],
   "source": [
    "# or install from local path\n",
    "# %pip install ../dist/spark-ocr-[version].tar.gz"
   ]
  },
  {
   "cell_type": "markdown",
   "metadata": {},
   "source": [
    "## Initialization of spark session"
   ]
  },
  {
   "cell_type": "code",
   "execution_count": 10,
   "metadata": {},
   "outputs": [
    {
     "name": "stdout",
     "output_type": "stream",
     "text": [
      "SparkConf Configured, Starting to listen on port: 60321\n",
      "JAR PATH:/usr/local/lib/python3.7/site-packages/sparkmonitor/listener.jar\n"
     ]
    },
    {
     "data": {
      "text/html": [
       "\n",
       "            <div>\n",
       "                <p><b>SparkSession - in-memory</b></p>\n",
       "                \n",
       "        <div>\n",
       "            <p><b>SparkContext</b></p>\n",
       "\n",
       "            <p><a href=\"http://melnyks-mbp:4041\">Spark UI</a></p>\n",
       "\n",
       "            <dl>\n",
       "              <dt>Version</dt>\n",
       "                <dd><code>v2.4.4</code></dd>\n",
       "              <dt>Master</dt>\n",
       "                <dd><code>local[*]</code></dd>\n",
       "              <dt>AppName</dt>\n",
       "                <dd><code>Spark OCR</code></dd>\n",
       "            </dl>\n",
       "        </div>\n",
       "        \n",
       "            </div>\n",
       "        "
      ],
      "text/plain": [
       "<pyspark.sql.session.SparkSession at 0x11cda9350>"
      ]
     },
     "execution_count": 10,
     "metadata": {},
     "output_type": "execute_result"
    }
   ],
   "source": [
    "from pyspark.sql import SparkSession\n",
    "from sparkocr import start\n",
    "\n",
    "spark = start(secret=secret, jar_path=spark_ocr_jar_path)\n",
    "spark"
   ]
  },
  {
   "cell_type": "markdown",
   "metadata": {},
   "source": [
    "## Import OCR transformers"
   ]
  },
  {
   "cell_type": "code",
   "execution_count": 19,
   "metadata": {},
   "outputs": [],
   "source": [
    "import requests\n",
    "import io\n",
    "from sparkocr.transformers import *\n",
    "from pyspark.ml import PipelineModel"
   ]
  },
  {
   "cell_type": "markdown",
   "metadata": {},
   "source": [
    "## Define OCR transformers and pipeline"
   ]
  },
  {
   "cell_type": "code",
   "execution_count": 18,
   "metadata": {},
   "outputs": [],
   "source": [
    "def pipeline():\n",
    "    \n",
    "    # Transforrm PDF document to images per page\n",
    "    pdf_to_image = PdfToImage()\n",
    "    pdf_to_image.setInputCol(\"content\")\n",
    "    pdf_to_image.setOutputCol(\"image\")\n",
    "\n",
    "    # Run tesseract OCR\n",
    "    ocr = TesseractOcr()\n",
    "    ocr.setInputCol(\"image\")\n",
    "    ocr.setOutputCol(\"text\")\n",
    "    ocr.setConfidenceThreshold(65)\n",
    "    \n",
    "    pipeline = PipelineModel(stages=[\n",
    "        pdf_to_image,\n",
    "        ocr\n",
    "    ])\n",
    "    \n",
    "    return pipeline"
   ]
  },
  {
   "cell_type": "markdown",
   "metadata": {},
   "source": [
    "## Read PDF document as binary file"
   ]
  },
  {
   "cell_type": "code",
   "execution_count": 26,
   "metadata": {},
   "outputs": [
    {
     "name": "stdout",
     "output_type": "stream",
     "text": [
      "+-----+--------------------+\n",
      "| path|             content|\n",
      "+-----+--------------------+\n",
      "|file1|[25 50 44 46 2D 3...|\n",
      "+-----+--------------------+\n",
      "\n"
     ]
    }
   ],
   "source": [
    "url = 'http://www.asx.com.au/asxpdf/20171103/pdf/43nyyw9r820c6r.pdf'\n",
    "response = requests.get(url)\n",
    "my_raw_data = response.content\n",
    "pdf_content = io.BytesIO(my_raw_data)\n",
    "pdf_example_df = spark.createDataFrame([(\"file1\", bytearray(my_raw_data)),], (\"path\", \"content\"))\n",
    "pdf_example_df.show()"
   ]
  },
  {
   "cell_type": "markdown",
   "metadata": {},
   "source": [
    "## Run OCR pipelines"
   ]
  },
  {
   "cell_type": "code",
   "execution_count": 27,
   "metadata": {},
   "outputs": [],
   "source": [
    "result = pipeline().transform(pdf_example_df).cache()"
   ]
  },
  {
   "cell_type": "markdown",
   "metadata": {},
   "source": [
    "## Display results"
   ]
  },
  {
   "cell_type": "code",
   "execution_count": 28,
   "metadata": {},
   "outputs": [
    {
     "name": "stdout",
     "output_type": "stream",
     "text": [
      "+-------+--------------------+-----------------+\n",
      "|pagenum|                text|       confidence|\n",
      "+-------+--------------------+-----------------+\n",
      "|      0|ASX ANNOUNCEMENT\n",
      "...|91.96627892388238|\n",
      "+-------+--------------------+-----------------+\n",
      "\n"
     ]
    }
   ],
   "source": [
    "result.select(\"pagenum\",\"text\", \"confidence\").show()"
   ]
  },
  {
   "cell_type": "markdown",
   "metadata": {},
   "source": [
    "### Display recognized text"
   ]
  },
  {
   "cell_type": "code",
   "execution_count": 29,
   "metadata": {},
   "outputs": [
    {
     "name": "stdout",
     "output_type": "stream",
     "text": [
      "ASX ANNOUNCEMENT\n",
      "3 November 2017\n",
      "\n",
      "Notice Pursuant to Paragraph 708A(5)(e) of the Corporations Act\n",
      "2001 (\"Act\")\n",
      "\n",
      "DigitalX Limited (ASX:DCC) (DCC or the Company) confirms that the Company has today\n",
      "issued 620,000 Fully Paid Ordinary Shares (Shares) upon exercise of 620,000 Unlisted\n",
      "Options exercisable at $0.0324 Expiring 14 September 2019 and 3,725,000 Shares upon\n",
      "exercise of 3,725,000 Unlisted Incentive Options exercisable at $0.08 expiring 10 February\n",
      "2018.\n",
      "\n",
      "The Act restricts the on-sale of securities issued without disclosure, unless the sale is exempt\n",
      "under section 708 or 708A of the Act. By giving this notice, a sale of the Shares noted above\n",
      "will fall within the exemption in section 708A(5) of the Act.\n",
      "\n",
      "The Company hereby notifies ASX under paragraph 708A(5)(e) of the Act that:\n",
      "(a) the Company issued the Shares without disclosure to investors under Part 6D.2 of\n",
      "the Act;\n",
      "(b) as at the date of this notice, the Company has complied with the provisions of Chapter\n",
      "2M of the Act as they apply to the Company, and section 674 of the Act; and\n",
      "(c) as at the date of this notice, there is no information:\n",
      "a. that has been excluded from a continuous disclosure notice in accordance with\n",
      "the ASX Listing Rules; and\n",
      "b. — that investors and their professional advisers would reasonably require for the\n",
      "purpose of making an informed assessment of:\n",
      "i. the assets and liabilities, financial position and performance, profits and\n",
      "losses and prospects of the Company; or\n",
      "ii. the rights and liabilities attaching to the relevant Shares.\n",
      "\n",
      "DigitalX Limited\n",
      "\n",
      "Leigh Travers\n",
      "Chief Executive Officer\n",
      "T: +61 439 376 847\n",
      "\n",
      "About DigitalX\n",
      "\n",
      "DigitalX is a Blockchain technology Company with offices in Perth and New York. DigitalX\n",
      "provides Blockchain consulting services, ICO advisory services and software development.\n",
      "Partners can use DigitalX’s technology expertise to deliver innovative products to global\n",
      "markets.\n",
      "\n"
     ]
    }
   ],
   "source": [
    "print(\"\\n\".join([row.text for row in result.select(\"text\").collect()]))"
   ]
  },
  {
   "cell_type": "markdown",
   "metadata": {},
   "source": [
    "## Clear cache"
   ]
  },
  {
   "cell_type": "code",
   "execution_count": 30,
   "metadata": {},
   "outputs": [
    {
     "data": {
      "text/plain": [
       "DataFrame[path: string, image: struct<origin:string,height:int,width:int,nChannels:int,mode:int,resolution:int,data:binary>, pagenum: int, confidence: double, positions: array<struct<mapping:array<struct<c:string,p:int,x:float,y:float,width:float,height:float,fontSize:int>>>>, exception: string, text: string]"
      ]
     },
     "execution_count": 30,
     "metadata": {},
     "output_type": "execute_result"
    }
   ],
   "source": [
    "result.unpersist()"
   ]
  }
 ],
 "metadata": {
  "kernelspec": {
   "display_name": "Python 3",
   "language": "python",
   "name": "python3"
  },
  "language_info": {
   "codemirror_mode": {
    "name": "ipython",
    "version": 3
   },
   "file_extension": ".py",
   "mimetype": "text/x-python",
   "name": "python",
   "nbconvert_exporter": "python",
   "pygments_lexer": "ipython3",
   "version": "3.7.6"
  }
 },
 "nbformat": 4,
 "nbformat_minor": 2
}
