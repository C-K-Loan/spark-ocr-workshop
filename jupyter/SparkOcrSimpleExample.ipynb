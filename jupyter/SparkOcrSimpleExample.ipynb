{
 "cells": [
  {
   "cell_type": "markdown",
   "metadata": {},
   "source": [
    "# Example of usage Spark OCR"
   ]
  },
  {
   "cell_type": "markdown",
   "metadata": {},
   "source": [
    "## Install spark-ocr python packge\n",
    "Need specify path to `spark-ocr-assembly-[version].jar` or `secret`"
   ]
  },
  {
   "cell_type": "code",
   "execution_count": 1,
   "metadata": {},
   "outputs": [],
   "source": [
    "secret = \"\"\n",
    "license = \"\"\n",
    "version = secret.split(\"-\")[0]\n",
    "spark_ocr_jar_path = \"../../target/scala-2.11\""
   ]
  },
  {
   "cell_type": "code",
   "execution_count": null,
   "metadata": {},
   "outputs": [],
   "source": [
    "%%bash\n",
    "if python -c 'import google.colab' &> /dev/null; then\n",
    "    echo \"Run on Google Colab!\"\n",
    "    echo \"Install Open JDK\"\n",
    "    apt-get install -y openjdk-8-jdk-headless -qq > /dev/null\n",
    "    java -version\n",
    "fi"
   ]
  },
  {
   "cell_type": "code",
   "execution_count": null,
   "metadata": {},
   "outputs": [],
   "source": [
    "import sys\n",
    "import os\n",
    "\n",
    "if 'google.colab' in sys.modules:\n",
    "  os.environ[\"JAVA_HOME\"] = \"/usr/lib/jvm/java-8-openjdk-amd64\"\n",
    "  os.environ[\"PATH\"] = os.environ[\"JAVA_HOME\"] + \"/bin:\" + os.environ[\"PATH\"]"
   ]
  },
  {
   "cell_type": "code",
   "execution_count": null,
   "metadata": {},
   "outputs": [],
   "source": [
    "# install from PYPI using secret\n",
    "%pip install spark-ocr==$version --user --extra-index-url=https://pypi.johnsnowlabs.com/$secret --upgrade"
   ]
  },
  {
   "cell_type": "code",
   "execution_count": null,
   "metadata": {},
   "outputs": [],
   "source": [
    "# or install from local path\n",
    "# %pip install --user ../../python/dist/spark-ocr-1.1.0rc1.tar.gz"
   ]
  },
  {
   "cell_type": "markdown",
   "metadata": {},
   "source": [
    "## Initialization of spark session"
   ]
  },
  {
   "cell_type": "code",
   "execution_count": 2,
   "metadata": {},
   "outputs": [
    {
     "name": "stdout",
     "output_type": "stream",
     "text": [
      "SparkConf Configured, Starting to listen on port: 65508\n",
      "JAR PATH:/usr/local/lib/python3.7/site-packages/sparkmonitor/listener.jar\n"
     ]
    },
    {
     "data": {
      "text/html": [
       "\n",
       "            <div>\n",
       "                <p><b>SparkSession - in-memory</b></p>\n",
       "                \n",
       "        <div>\n",
       "            <p><b>SparkContext</b></p>\n",
       "\n",
       "            <p><a href=\"http://melnyks-mbp:4040\">Spark UI</a></p>\n",
       "\n",
       "            <dl>\n",
       "              <dt>Version</dt>\n",
       "                <dd><code>v2.4.4</code></dd>\n",
       "              <dt>Master</dt>\n",
       "                <dd><code>local[*]</code></dd>\n",
       "              <dt>AppName</dt>\n",
       "                <dd><code>Spark OCR</code></dd>\n",
       "            </dl>\n",
       "        </div>\n",
       "        \n",
       "            </div>\n",
       "        "
      ],
      "text/plain": [
       "<pyspark.sql.session.SparkSession at 0x11f3e5110>"
      ]
     },
     "execution_count": 2,
     "metadata": {},
     "output_type": "execute_result"
    }
   ],
   "source": [
    "from pyspark.sql import SparkSession\n",
    "from sparkocr import start\n",
    "\n",
    "if license:\n",
    "    os.environ['JSL_OCR_LICENSE'] = license\n",
    "\n",
    "spark = start(secret=secret, jar_path=spark_ocr_jar_path)\n",
    "spark"
   ]
  },
  {
   "cell_type": "markdown",
   "metadata": {},
   "source": [
    "## Import OCR transformers"
   ]
  },
  {
   "cell_type": "code",
   "execution_count": 3,
   "metadata": {},
   "outputs": [],
   "source": [
    "from sparkocr.transformers import *\n",
    "from pyspark.ml import PipelineModel"
   ]
  },
  {
   "cell_type": "markdown",
   "metadata": {},
   "source": [
    "## Define OCR transformers and pipeline"
   ]
  },
  {
   "cell_type": "code",
   "execution_count": 4,
   "metadata": {},
   "outputs": [],
   "source": [
    "def pipeline():\n",
    "    \n",
    "    # Transforrm PDF document to images per page\n",
    "    pdf_to_image = PdfToImage()\n",
    "    pdf_to_image.setInputCol(\"content\")\n",
    "    pdf_to_image.setOutputCol(\"image\")\n",
    "\n",
    "    # Run tesseract OCR\n",
    "    ocr = TesseractOcr()\n",
    "    ocr.setInputCol(\"image\")\n",
    "    ocr.setOutputCol(\"text\")\n",
    "    ocr.setConfidenceThreshold(65)\n",
    "    \n",
    "    pipeline = PipelineModel(stages=[\n",
    "        pdf_to_image,\n",
    "        ocr\n",
    "    ])\n",
    "    \n",
    "    return pipeline"
   ]
  },
  {
   "cell_type": "markdown",
   "metadata": {},
   "source": [
    "## Read PDF document as binary file"
   ]
  },
  {
   "cell_type": "code",
   "execution_count": 5,
   "metadata": {},
   "outputs": [],
   "source": [
    "import pkg_resources\n",
    "pdf_example = pkg_resources.resource_filename('sparkocr', 'resources/ocr/pdfs/test_document.pdf')\n",
    "pdf_example_df = spark.read.format(\"binaryFile\").load(pdf_example).cache()"
   ]
  },
  {
   "cell_type": "markdown",
   "metadata": {},
   "source": [
    "## Run OCR pipelines"
   ]
  },
  {
   "cell_type": "code",
   "execution_count": 6,
   "metadata": {},
   "outputs": [],
   "source": [
    "result = pipeline().transform(pdf_example_df).cache()"
   ]
  },
  {
   "cell_type": "markdown",
   "metadata": {},
   "source": [
    "## Display results"
   ]
  },
  {
   "cell_type": "code",
   "execution_count": 7,
   "metadata": {},
   "outputs": [
    {
     "name": "stdout",
     "output_type": "stream",
     "text": [
      "+-------+--------------------+-----------------+\n",
      "|pagenum|                text|       confidence|\n",
      "+-------+--------------------+-----------------+\n",
      "|      0|Patient Nam\n",
      "Finan...|80.66660189628601|\n",
      "|      1|Random Hospital\n",
      "\n",
      "...|69.66282038534841|\n",
      "+-------+--------------------+-----------------+\n",
      "\n"
     ]
    }
   ],
   "source": [
    "result.select(\"pagenum\",\"text\", \"confidence\").show()"
   ]
  },
  {
   "cell_type": "markdown",
   "metadata": {},
   "source": [
    "### Display recognized text"
   ]
  },
  {
   "cell_type": "code",
   "execution_count": 8,
   "metadata": {},
   "outputs": [
    {
     "name": "stdout",
     "output_type": "stream",
     "text": [
      "Patient Nam\n",
      "Financial Numbe\n",
      "\n",
      "Random Hospital Date of Birth\n",
      "\n",
      "Patient Location\n",
      "\n",
      "  \n",
      "   \n",
      "\n",
      "| H & P |\n",
      "Chief Complaint Arincitis | |\n",
      "Shortness of breath CHF - Congestive heart failure\n",
      "Chronic kidney disease\n",
      "History of Present Illness Chronic venous insufficiency\n",
      "Edema\n",
      "a . . | GI bleeding\n",
      "Patient is an 64-year-old male wilh a past medical history of hypertension, HFpEF last Glaucoma\n",
      "known EF 55%, mild to moderate TA, pulmonary hypertension, permanent atrial Gout\n",
      "fibrillation on Eliquis, history of GI blesd, CK-M8, and anemia who presents with full weeks vpertension\n",
      "oi ccneralized fatigue and fecling unwell. He also notes some shortness oi Breath and Peptic ulcer\n",
      "worsening dyspnea will) minimal exerlion. His major comp!aints are shoulder and join nha TT, a“\n",
      "ng 2791 : Pe CONC eee en Peripheral ncusopath,\n",
      "pains. diffuscly. He also complains of \"bone pain’. He denics having any fevers or chills. Peripheral vascular disease\n",
      "e demes having any chest pain, palpitalicns, He denies any worse extremity Pulmonary hypertension\n",
      "swelling than his baseline. He states he’s been compliant with his mcdications. Although Tricuspid regurgitation\n",
      "he stales he ran out of his Eliquis & few weeks ago. He denies having any blood in his Historical °\n",
      "Stools or mce!cna, although he does take iron pills and states his stools arc irequently black. No qualifying data\n",
      "\n",
      "His hemoglobin Is al baseline.\n",
      "Procedure/Surgical History\n",
      "\n",
      "Twelve-lead EKG showing atrial fibrillation, RBBB, LAFB, PVC. Chest x-ray showing new = duodenal resection, duodenojcjunostomy.\n",
      "smail right creater ihan left pleural effusions with mild pulmonary vascular congestion. BNP small bowel enterolomy, removal of foreign\n",
      "increased to 2800, up fram 1900. Troponin 0.03. Renal function at paseline. Hemoagladin object and repair oj enterotomy (05/2 1/2014),\n",
      "colonoscopy (12/10/2013), egd (1209/2013),\n",
      "H/O endoscopy (07/2013), H’O colonoscopy\n",
      "She normally takes 80 mq of oral Lasix daily. He was given 80 mg of IV Lasix in the ED. (03/2013), pifonidal cyst removal at base of\n",
      "He is currently net negative close to 1 L. He is still on 2 L nasal cannula. spine (1981), laser eye surgery for glaucoma.\n",
      "lesions on small intestine closed up.\n",
      "\n",
      "Home Medications\n",
      "\n",
      "ai baseline.\n",
      "\n",
      " \n",
      "\n",
      "! Ss 5\n",
      ": | Home\n",
      "A 10 system roview af systems was completed and negative except as documented in HPI. allopurinol 300 mg oral tablet, 300 MG= 1\n",
      "Physical Exam TAB, PO. Daily\n",
      "atenolol 25 mg oral tablet, 25 MG= 1 TAB,\n",
      "Vitals & Measurements PO, Daily\n",
      "T: 36.8 °C (Oral) TMIN: 36.8 °C (Oral) TMAX: 37.0 °C (Oral) HR: 54 RR: 17 chtorthalidane 25 mg oral tablet, 25 MG=\n",
      "BP: 140/63 WT: 100.3 KG 1 TAB. PO. MUWF\n",
      "Pulse Ox: 100 %> Oxygen: 2 L'min via Nasal Cennula Combigan 0.2%-0.5% ophthalraic\n",
      "GENERAL: no acute distress solution, 1 DROP, Both Eyes, Q12H\n",
      "HEAD: normecephalic Eliquis 5 mg oral lablet, 5 MG= 1 TAB,\n",
      "EYES‘EARS‘NOSE/THROAT: pupils are equal, normal oropharynx PO, BID\n",
      "NECK: normal inspection lerrous sullate 325 mg (65 nig elemental!\n",
      "RESPIRATORY: no respiratory distress, no rales on my exam iron) oral tablet, 325 MG= 1 TAB, PO,\n",
      "CARDIOVASCULAR: irregular. brady. 10 murmurs. rubs or gallops Daily\n",
      "ABDOMEN: soft, non-tender Lasix 80 mg oral tablet, 80 MG= 1 TAB.\n",
      "EXTREMITIES: Bilateral chronic venous stasis changes PO. BID\n",
      "NEUROLOGIC: alert and arieniec x 3. no gross motor cr sensary deficits omeprazo!c 20 mg ofa! delayed release\n",
      "Assessment/Plan 5 A eee ae sn Se\n",
      "Acute on chronic diastolic CHF (congestive heart failure) ‘CA — oo, eee\n",
      "\n",
      "Acute on chronic diastolic heart failure exacerbation. Small pleural effusions dilaterally\n",
      "with mild pulmonary vascular congesiion on chest x-ray, slighi elevation in BNR. We'll\n",
      "continue 1 more day af IV diuresis with 80 mg IV Lasix. He may have had a viral infection Dail\n",
      "‘ os . ‘ oy we wate : . ay\n",
      "which precipilated this. We'll add Tylenol jor his joint paias. Continue atenclol and ~ ws\n",
      "chlorthalidone sertraline 50 mg oral tablet, 75 MG= 1,5\n",
      " Giaeo amcagencas TAB, PQ. Daily\n",
      "AF - Atrial fibrillation cia aEneasise Ue seamsdecnenenee ABE\n",
      "Permanent atrial fibrillation. Rates bradycardic ia the 0s. Continue atenolol with hold CTI SOLIS: Sonne Burn cnearren\n",
      "Topical, Daily\n",
      "\n",
      "potassium chloride 20 mEq oral tablet,\n",
      "extended release, 20 MEO= 1 TAB, PO,\n",
      "\n",
      "Printed: 7/17/2017 13:07 EDT Page 16 of 42 PowerChart\n",
      "\n",
      "Random Hospital\n",
      "\n",
      "Anemia\n",
      "At baseline\n",
      "Arthritis\n",
      "\n",
      "Tylenol for pain. Patient also takes Percocet alt home, will add this cn.\n",
      "\n",
      "Chronic kidney disease\n",
      "\n",
      "AY baseline. Monitor while divresing.\n",
      "Hypertension\n",
      "\n",
      "Blood pressures within tolerable ranges.\n",
      "Pulmonary hypertension\n",
      "Tricuspid regurgitation\n",
      "\n",
      "Mild-to-moderaie on echocardiogram last year\n",
      "\n",
      "Attending physician note-the patient was interviewed and examined. The appropriaic\n",
      "information in power chart was reviewed. The patient was discussed wilh Dr, Persad.\n",
      "Patient may have @ mild degree of heart failure. He and his wife were more concernes with\n",
      "lus peripheral edema. He has underlying renal insufficiency as well. We'll try to diuresé\n",
      "him to his “dry\" weight. We will then try to adjust his medications to kcep him within &\n",
      "narrow range of [hat weight. We will stop his atenolol this point since he is relatively\n",
      "bradycardic anc observe his heart rate on the cardiac monitor. He will progress with his\n",
      "\n",
      "care and aclivily as tolerated.\n",
      "\n",
      "Printed: 7/1\n",
      "\n",
      "7/2017 13:01 EDT\n",
      "\n",
      "Page 17 of 42\n",
      "\n",
      "Patient Name\n",
      "Financial Number\n",
      "Date of Girth\n",
      "Patient Location\n",
      "\n",
      " \n",
      "\n",
      "Vitamin D2 50,000 intl units (1.25 ma) ora!\n",
      "capsule, 1 TAS, PO, Weesly-Tue\n",
      "\n",
      "Allergies\n",
      "\n",
      "sholliisn (cout)\n",
      "\n",
      "sulfa drug (maculopapular rash)\n",
      "\n",
      "Social History\n",
      "\n",
      "Ever Smoked tobacco: Former Smokcr\n",
      "Alcohol use - frequency: None\n",
      "\n",
      "Drug use: Never\n",
      "\n",
      "Lab Results\n",
      "O7/1G/47 05:30 to O7/16/17 05:30\n",
      "\n",
      "07/16/17 05:30 to O7/ 16/17 05:30\n",
      "\n",
      "fL 32.4 \\\n",
      "\n",
      "BMP\n",
      "\n",
      "GLU\n",
      "\n",
      "NA\n",
      "\n",
      "K\n",
      "\n",
      "CL\n",
      "\n",
      "TOTAL COZ\n",
      "BUN\n",
      "\n",
      "CRT\n",
      "\n",
      "ANION GAP\n",
      "CA\n",
      "\n",
      "CBC with diff\n",
      "\n",
      "WBC\n",
      "HGB\n",
      "HCT\n",
      "RBC\n",
      "MCV\n",
      "MICH\n",
      "MCHC\n",
      "RDW\n",
      "MPV\n",
      "\n",
      "07/16/17\n",
      "05:30\n",
      "\n",
      "102 mg/dL\n",
      "143 MMOL/L\n",
      "3.6 MMOL/L\n",
      "98 MMOL/L\n",
      "40 MMOL/L\n",
      "26 mg/dL.\n",
      "1.23 mg/dL\n",
      "5\n",
      "\n",
      "7.9 mg/dL\n",
      "07/16/17\n",
      "05:30\n",
      "\n",
      "3.4/ nl\n",
      "\n",
      "10.1 G/DL\n",
      "32.4 “Yo\n",
      "\n",
      "3.41 /PL\n",
      "95.0 FL\n",
      "29.6 pg\n",
      "31.2 %\n",
      "\n",
      "15,9 %o\n",
      "\n",
      "10.7 FL\n",
      "\n",
      "PowerChart\n",
      "\n",
      "\n"
     ]
    }
   ],
   "source": [
    "print(\"\\n\".join([row.text for row in result.select(\"text\").collect()]))"
   ]
  },
  {
   "cell_type": "markdown",
   "metadata": {},
   "source": [
    "## Clear cache"
   ]
  },
  {
   "cell_type": "code",
   "execution_count": 10,
   "metadata": {},
   "outputs": [
    {
     "data": {
      "text/plain": [
       "DataFrame[path: string, modificationTime: timestamp, length: bigint, image: struct<origin:string,height:int,width:int,nChannels:int,mode:int,resolution:int,data:binary>, pagenum: int, confidence: double, positions: array<struct<mapping:array<struct<c:string,p:int,x:float,y:float,width:float,height:float,fontSize:int>>>>, exception: string, text: string]"
      ]
     },
     "execution_count": 10,
     "metadata": {},
     "output_type": "execute_result"
    }
   ],
   "source": [
    "result.unpersist()"
   ]
  }
 ],
 "metadata": {
  "kernelspec": {
   "display_name": "Python 3",
   "language": "python",
   "name": "python3"
  },
  "language_info": {
   "codemirror_mode": {
    "name": "ipython",
    "version": 3
   },
   "file_extension": ".py",
   "mimetype": "text/x-python",
   "name": "python",
   "nbconvert_exporter": "python",
   "pygments_lexer": "ipython3",
   "version": "3.7.7"
  }
 },
 "nbformat": 4,
 "nbformat_minor": 2
}
