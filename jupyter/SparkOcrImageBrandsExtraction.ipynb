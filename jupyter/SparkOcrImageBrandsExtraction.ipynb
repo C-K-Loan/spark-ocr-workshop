{
 "cells": [
  {
   "cell_type": "markdown",
   "source": [
    "# Example of usage Spark OCR with Image Brands Extractions"
   ],
   "metadata": {
    "collapsed": false
   }
  },
  {
   "cell_type": "markdown",
   "source": [
    "## Import Spark OCR transformers"
   ],
   "metadata": {
    "collapsed": false
   }
  },
  {
   "cell_type": "markdown",
   "source": [
    "## Install spark-ocr python packge\n",
    "Need specify path to `spark-ocr-assembly-[version].jar` or `secret`"
   ],
   "metadata": {
    "collapsed": false
   }
  },
  {
   "cell_type": "code",
   "execution_count": null,
   "outputs": [],
   "source": [
    "secret = \"\"\n",
    "license = \"\"\n",
    "version = secret.split(\"-\")[0]\n",
    "spark_ocr_jar_path = \"../../target/scala-2.11\""
   ],
   "metadata": {
    "collapsed": false,
    "pycharm": {
     "name": "#%%\n"
    }
   }
  },
  {
   "cell_type": "code",
   "execution_count": null,
   "outputs": [],
   "source": [
    "%%bash\n",
    "if python -c 'import google.colab' &> /dev/null; then\n",
    "    echo \"Run on Google Colab!\"\n",
    "    echo \"Install Open JDK\"\n",
    "    apt-get install -y openjdk-8-jdk-headless -qq > /dev/null\n",
    "    java -version\n",
    "fi"
   ],
   "metadata": {
    "collapsed": false,
    "pycharm": {
     "name": "#%%\n"
    }
   }
  },
  {
   "cell_type": "code",
   "execution_count": null,
   "outputs": [],
   "source": [
    "import os\n",
    "import sys\n",
    "\n",
    "if 'google.colab' in sys.modules:\n",
    "  os.environ[\"JAVA_HOME\"] = \"/usr/lib/jvm/java-8-openjdk-amd64\"\n",
    "  os.environ[\"PATH\"] = os.environ[\"JAVA_HOME\"] + \"/bin:\" + os.environ[\"PATH\"]"
   ],
   "metadata": {
    "collapsed": false,
    "pycharm": {
     "name": "#%%\n"
    }
   }
  },
  {
   "cell_type": "code",
   "execution_count": null,
   "outputs": [],
   "source": [
    "# install from PYPI using secret\n",
    "%pip install spark-nlp==2.4.5\n",
    "%pip install spark-ocr==$version --user --extra-index-url=https://pypi.johnsnowlabs.com/$secret --upgrade"
   ],
   "metadata": {
    "collapsed": false,
    "pycharm": {
     "name": "#%%\n"
    }
   }
  },
  {
   "cell_type": "code",
   "execution_count": null,
   "outputs": [],
   "source": [
    "# %pip install --user ../dist/spark-ocr-[version].tar.gz"
   ],
   "metadata": {
    "collapsed": false,
    "pycharm": {
     "name": "#%%\n"
    }
   }
  },
  {
   "cell_type": "markdown",
   "source": [
    "## Initialization of spark session\n",
    "Need specify path to `spark-ocr-assembly.jar` or `secret`"
   ],
   "metadata": {
    "collapsed": false
   }
  },
  {
   "cell_type": "code",
   "execution_count": null,
   "outputs": [],
   "source": [
    "from sparkocr import start\n",
    "\n",
    "if license:\n",
    "    os.environ['JSL_OCR_LICENSE'] = license\n",
    "\n",
    "spark = start(secret=secret, jar_path=spark_ocr_jar_path, nlp_version=\"2.4.5\")\n",
    "spark"
   ],
   "metadata": {
    "collapsed": false,
    "pycharm": {
     "name": "#%%\n"
    }
   }
  },
  {
   "cell_type": "code",
   "execution_count": null,
   "outputs": [],
   "source": [
    "from pyspark.sql.functions import  col\n",
    "from pyspark.ml import Pipeline\n",
    "from sparknlp.base import *\n",
    "from sparkocr.transformers import *\n",
    "from sparkocr.enums import *\n",
    "from termcolor import colored"
   ],
   "metadata": {
    "collapsed": false,
    "pycharm": {
     "name": "#%%\n"
    }
   }
  },
  {
   "cell_type": "markdown",
   "source": [
    "## Define OCR transformers and pipeline"
   ],
   "metadata": {
    "collapsed": false
   }
  },
  {
   "cell_type": "code",
   "execution_count": null,
   "outputs": [],
   "source": [
    "# Read binary as image\n",
    "binary_to_image = BinaryToImage()\n",
    "binary_to_image.setInputCol(\"content\")\n",
    "binary_to_image.setOutputCol(\"image\")\n",
    "\n",
    "# Binarize using adaptive tresholding\n",
    "binarizer = ImageAdaptiveThresholding()\n",
    "binarizer.setInputCol(\"image\")\n",
    "binarizer.setOutputCol(\"binarized_image\")\n",
    "\n",
    "# Apply morphology operation\n",
    "operation = ImageMorphologyOperation()\n",
    "operation.setKernelShape(KernelShape.SQUARE)\n",
    "operation.setKernelSize(2)\n",
    "operation.setInputCol(\"binarized_image\")\n",
    "operation.setOutputCol(\"opening_image\")\n",
    "\n",
    "# Remove small objects\n",
    "remove_objects = ImageRemoveObjects()\n",
    "remove_objects.setInputCol(\"opening_image\")\n",
    "remove_objects.setOutputCol(\"corrected_image\")\n",
    "remove_objects.setMinSizeFont(48)\n",
    "\n",
    "# Run tesseract OCR for corrected image\n",
    "ocr_corrected = ImageToText()\n",
    "ocr_corrected.setInputCol(\"corrected_image\")\n",
    "ocr_corrected.setOutputCol(\"image_brands\")\n",
    "ocr_corrected.setIgnoreResolution(False)\n",
    "ocr_corrected.setOcrParams([\"preserve_interword_spaces=1\", ])\n",
    "ocr_corrected.setPageSegMode(PageSegmentationMode.SINGLE_WORD)\n",
    "ocr_corrected.setBrandsCoords(\"\"\"\n",
    "              [\n",
    "                 {\n",
    "                    \"name\": \"name\",\n",
    "                    \"rectangle\": {\n",
    "                       \"x\": 250,\n",
    "                       \"y\": 158,\n",
    "                       \"width\": 204,\n",
    "                       \"height\": 23\n",
    "                    }\n",
    "                 },\n",
    "                 {\n",
    "                    \"name\": \"issue_date\",\n",
    "                    \"rectangle\": {\n",
    "                       \"x\": 641,\n",
    "                       \"y\": 156,\n",
    "                       \"width\": 129,\n",
    "                       \"height\": 20\n",
    "                    }\n",
    "                 },\n",
    "                 {\n",
    "                    \"name\": \"serial_number\",\n",
    "                    \"rectangle\": {\n",
    "                       \"x\": 570,\n",
    "                       \"y\": 343,\n",
    "                       \"width\": 188,\n",
    "                       \"height\": 33\n",
    "                    }\n",
    "                 }\n",
    "              ]\n",
    "\n",
    "\"\"\")\n",
    "\n",
    "# OCR pipeline\n",
    "pipeline = Pipeline(stages=[\n",
    "    binary_to_image,\n",
    "    binarizer,\n",
    "    operation,\n",
    "    remove_objects,\n",
    "    ocr_corrected\n",
    "])\n"
   ],
   "metadata": {
    "collapsed": false,
    "pycharm": {
     "name": "#%%\n"
    }
   }
  },
  {
   "cell_type": "markdown",
   "source": [
    "## Read Image  as binary file"
   ],
   "metadata": {
    "collapsed": false
   }
  },
  {
   "cell_type": "code",
   "execution_count": null,
   "outputs": [],
   "source": [
    "image_path = '././data/images/dollar_bonds/*.jpg'\n",
    "image_df = spark.read.format(\"binaryFile\").load(image_path)"
   ],
   "metadata": {
    "collapsed": false,
    "pycharm": {
     "name": "#%%\n"
    }
   }
  },
  {
   "cell_type": "markdown",
   "source": [
    "## Run OCR pipelines"
   ],
   "metadata": {
    "collapsed": false
   }
  },
  {
   "cell_type": "code",
   "execution_count": null,
   "outputs": [],
   "source": [
    "ocr_result = pipeline.fit(image_df).transform(image_df).cache()"
   ],
   "metadata": {
    "collapsed": false,
    "pycharm": {
     "name": "#%%\n"
    }
   }
  },
  {
   "cell_type": "markdown",
   "source": [
    "## Results"
   ],
   "metadata": {
    "collapsed": false
   }
  },
  {
   "cell_type": "code",
   "execution_count": null,
   "outputs": [],
   "source": [
    "results = ocr_result.select(col(\"path\"),col(\"image_brands.name.text\").alias(\"name\"),col(\"image_brands.issue_date.text\").alias(\"issue_date\") \\\n",
    "                        ,col(\"image_brands.serial_number.text\").alias(\"serial_number\")).collect()\n",
    "for row in results:\n",
    "    print(colored(\"path:\\n%s\" % row.path, \"red\"))\n",
    "    print(\"Name:\\n%s\" % row.name)\n",
    "    print(\"Issue Date:\\n%s\" % row.issue_date)\n",
    "    print(\"Serial Number:\\n%s\" % row.serial_number)\n",
    "\n"
   ],
   "metadata": {
    "collapsed": false,
    "pycharm": {
     "name": "#%%\n"
    }
   }
  }
 ],
 "metadata": {
  "kernelspec": {
   "display_name": "Python 3",
   "language": "python",
   "name": "python3"
  },
  "language_info": {
   "codemirror_mode": {
    "name": "ipython",
    "version": 3
   },
   "file_extension": ".py",
   "mimetype": "text/x-python",
   "name": "python",
   "nbconvert_exporter": "python",
   "pygments_lexer": "ipython3",
   "version": "3.7.7"
  }
 },
 "nbformat": 4,
 "nbformat_minor": 2
}