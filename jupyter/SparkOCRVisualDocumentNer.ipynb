{
 "cells": [
  {
   "cell_type": "markdown",
   "id": "33195bd0",
   "metadata": {},
   "source": [
    "# Visual Document Ner"
   ]
  },
  {
   "cell_type": "code",
   "execution_count": null,
   "id": "3e63948e",
   "metadata": {},
   "outputs": [],
   "source": [
    "secret = \"\"\n",
    "license = \"\"\n",
    "spark_ocr_jar_path = \"../../target/scala-2.11\"\n",
    "\n",
    "pretrained_model = (\"visual_document_NER_SROIE0518\", \"en\", \"public/ocr/models\")\n"
   ]
  },
  {
   "cell_type": "code",
   "execution_count": null,
   "id": "01160707",
   "metadata": {},
   "outputs": [],
   "source": [
    "#%pip install spark-ocr==$version\\.spark30 --extra-index-url=https://pypi.johnsnowlabs.com/$secret --upgrade"
   ]
  },
  {
   "cell_type": "code",
   "execution_count": null,
   "id": "d6bb32cb",
   "metadata": {},
   "outputs": [],
   "source": [
    "#%pip install ../../python/dist/spark-ocr-3.0.0.spark30.tar.gz\n",
    "#%pip install pyspark==3.0.1"
   ]
  },
  {
   "cell_type": "code",
   "execution_count": null,
   "id": "3d973991",
   "metadata": {},
   "outputs": [],
   "source": [
    "import pyspark\n",
    "import sparkocr\n",
    "import json\n",
    "import os\n",
    "\n",
    "from pyspark.sql import SparkSession\n",
    "from pyspark.ml import PipelineModel\n",
    "import pyspark.sql.functions as f\n",
    "\n",
    "from sparkocr.transformers import ImageToHocr, VisualDocumentNer, BinaryToImage\n",
    "from sparkocr.utils import display_image"
   ]
  },
  {
   "cell_type": "markdown",
   "id": "a18b4acd",
   "metadata": {},
   "source": [
    "### Initialize Spark session"
   ]
  },
  {
   "cell_type": "code",
   "execution_count": null,
   "id": "09ba60a5",
   "metadata": {},
   "outputs": [],
   "source": [
    "from sparkocr import start\n",
    "from pyspark import SparkConf\n",
    "\n",
    "if license:\n",
    "    os.environ['JSL_OCR_LICENSE'] = license\n",
    "\n",
    "spark = start(secret=secret, jar_path=spark_ocr_jar_path, nlp_version=\"3.0.0\")\n",
    "spark"
   ]
  },
  {
   "cell_type": "markdown",
   "id": "84437778",
   "metadata": {},
   "source": [
    "## Load test images"
   ]
  },
  {
   "cell_type": "code",
   "execution_count": null,
   "id": "abe90ecf",
   "metadata": {},
   "outputs": [],
   "source": [
    "import pkg_resources\n",
    "test_image_path = pkg_resources.resource_filename('sparkocr', 'resources/ocr/images/SROIE/')\n",
    "bin_df = spark.read.format(\"binaryFile\").load(test_image_path)\n",
    "bin_df.show()"
   ]
  },
  {
   "cell_type": "markdown",
   "id": "63af1493",
   "metadata": {},
   "source": [
    "## Display images"
   ]
  },
  {
   "cell_type": "code",
   "execution_count": null,
   "id": "a5f0df71",
   "metadata": {
    "scrolled": true
   },
   "outputs": [],
   "source": [
    "for item in BinaryToImage().transform(bin_df).select(\"image\").collect():\n",
    "    display_image(item.image)"
   ]
  },
  {
   "cell_type": "markdown",
   "id": "0aa0d6da",
   "metadata": {},
   "source": [
    "### Define pipeline"
   ]
  },
  {
   "cell_type": "code",
   "execution_count": null,
   "id": "6dc08365",
   "metadata": {},
   "outputs": [],
   "source": [
    "binary_to_image = BinaryToImage()\\\n",
    "    .setOutputCol(\"image\")\n",
    "\n",
    "img_to_hocr = ImageToHocr()\\\n",
    "    .setInputCol(\"image\")\\\n",
    "    .setOutputCol(\"hocr\")\\\n",
    "    .setIgnoreResolution(False)\\\n",
    "    .setOcrParams([\"preserve_interword_spaces=0\"])\n",
    "\n",
    "\n",
    "doc_ner = VisualDocumentNer()\\\n",
    "    .pretrained(*pretrained_model)\\\n",
    "    .setInputCol(\"hocr\")\\\n",
    "    .setLabelCol(\"label\")\\\n",
    "    .setConfidenceCol(\"conf\")\n",
    "\n",
    "# OCR pipeline\n",
    "pipeline = PipelineModel(stages=[\n",
    "    binary_to_image,\n",
    "    img_to_hocr,\n",
    "    doc_ner\n",
    "])"
   ]
  },
  {
   "cell_type": "markdown",
   "id": "630aead3",
   "metadata": {},
   "source": [
    "## Call pipeline"
   ]
  },
  {
   "cell_type": "code",
   "execution_count": null,
   "id": "92eaa5f7",
   "metadata": {},
   "outputs": [],
   "source": [
    "results = pipeline.transform(bin_df)"
   ]
  },
  {
   "cell_type": "markdown",
   "id": "4c69d6ff",
   "metadata": {},
   "source": [
    "## Show results"
   ]
  },
  {
   "cell_type": "code",
   "execution_count": null,
   "id": "6165b20d",
   "metadata": {},
   "outputs": [],
   "source": [
    "results.withColumn(\"filename\", f.element_at(f.split(\"path\", \"/\"), -1)) \\\n",
    "       .select(\"filename\", \"word\", \"token\", \"label\") \\\n",
    "       .show(truncate=False)"
   ]
  }
 ],
 "metadata": {
  "kernelspec": {
   "display_name": "python-JF2RPhFl",
   "language": "python",
   "name": "python-jf2rphfl"
  },
  "language_info": {
   "codemirror_mode": {
    "name": "ipython",
    "version": 3
   },
   "file_extension": ".py",
   "mimetype": "text/x-python",
   "name": "python",
   "nbconvert_exporter": "python",
   "pygments_lexer": "ipython3",
   "version": "3.7.10"
  }
 },
 "nbformat": 4,
 "nbformat_minor": 5
}
